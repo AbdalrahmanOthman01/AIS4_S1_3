{
 "cells": [
  {
   "cell_type": "markdown",
   "id": "fdeb1234-f38e-49b5-a7a6-5a2b71ec9bd3",
   "metadata": {},
   "source": [
    "# Exploratory Data Analysis (EDA) - Rossmann Stores\n",
    "\n",
    "In this notebook, we explore and visualize the cleaned dataset of **Rossmann Stores** in order to uncover hidden patterns, relationships, and trends that may support our predictive modeling and business understanding.\n",
    "\n",
    "The goal of this analysis is to gain insights into the behavior of **store sales**, how different features (e.g., promotions, holidays, customers, store type) affect performance, and to identify any interesting correlations or anomalies.\n",
    "\n",
    "We will use a combination of:\n",
    "- **Static visualizations** using Matplotlib and Seaborn.\n",
    "- **Interactive charts** using Plotly for deeper exploration.\n",
    "\n",
    "This step is essential for informing the next stages of the project, including **feature engineering**, **model building**, and generating meaningful **business recommendations**."
   ]
  },
  {
   "cell_type": "markdown",
   "id": "3cc952bd-e9f6-41e7-9bf5-5384333d0c96",
   "metadata": {},
   "source": [
    "### Importing required libraries"
   ]
  },
  {
   "cell_type": "code",
   "execution_count": null,
   "id": "5d26a0a3-7a11-4753-ae88-28266c80ff1d",
   "metadata": {},
   "outputs": [],
   "source": [
    "# Data manipulation and analysis\n",
    "import pandas as pd\n",
    "import numpy as np\n",
    "\n",
    "# Static data visualization\n",
    "import matplotlib.pyplot as plt\n",
    "%matplotlib inline  \n",
    "import seaborn as sns\n",
    "\n",
    "# Interactive data visualization\n",
    "import plotly.express as px\n",
    "import plotly.graph_objects as go\n",
    "\n",
    "# Suppressing warnings for cleaner output\n",
    "import warnings\n",
    "warnings.filterwarnings('ignore')"
   ]
  },
  {
   "cell_type": "markdown",
   "id": "476c4a74-1d4e-4fe2-ab2c-83276dbe7cd5",
   "metadata": {},
   "source": [
    "### Loading Data"
   ]
  },
  {
   "cell_type": "code",
   "execution_count": null,
   "id": "9fce621a-a58a-469f-8be2-5fac171c1f8a",
   "metadata": {},
   "outputs": [],
   "source": [
    "# Reading the dataset from a CSV file\n",
    "df = pd.read_csv(r\"clean_data.csv\")\n",
    "df.head()# Display the first 5 rows of the dataset to check its structure\\"
   ]
  },
  {
   "cell_type": "markdown",
   "id": "edbdf602-2e1c-47c1-8757-11b104d5a9bb",
   "metadata": {},
   "source": [
    "### Monthly total sales by store type"
   ]
  },
  {
   "cell_type": "code",
   "execution_count": null,
   "id": "bc30b623-41d1-4651-b0c7-ed98ea2672fd",
   "metadata": {},
   "outputs": [],
   "source": [
    "# Group sales by Year, Month, and StoreType, and calculate the sum of Sales\n",
    "monthly_store_sales = df.groupby(['Year', 'Month', 'StoreType'])['Sales'].sum().reset_index()\n",
    "\n",
    "# Create a new column that combines Year and Month as a single string\n",
    "monthly_store_sales['Year-Month'] = monthly_store_sales['Year'].astype(str) + '-' + monthly_store_sales['Month'].astype(str)\n",
    "\n",
    "# Create a line plot showing monthly sales by store type\n",
    "fig = px.line(\n",
    "    monthly_store_sales,        # Data source\n",
    "    x='Year-Month',             # X-axis: combined year and month\n",
    "    y='Sales',                  # Y-axis: total sales\n",
    "    color='StoreType',          # Line color based on store type\n",
    "    markers=True,               # Show markers on lines\n",
    "    title='Monthly Sales by Store Type Over Time',  # Chart title\n",
    "    labels={'Year-Month': 'Year-Month', 'Sales': 'Total Sales', 'StoreType': 'Store Type'}  # Axis labels\n",
    ")\n",
    "\n",
    "# Display the plot\n",
    "fig.show()\n"
   ]
  },
  {
   "cell_type": "markdown",
   "id": "41ce22bc-3097-4e64-9204-9cf873238ecb",
   "metadata": {},
   "source": [
    "### Monthly total sales overall"
   ]
  },
  {
   "cell_type": "code",
   "execution_count": null,
   "id": "fe532e6f-6ef7-4e4b-b2ee-24f439058b2a",
   "metadata": {},
   "outputs": [],
   "source": [
    "# Group sales by Year and Month, and calculate the total sales\n",
    "monthly_sales = df.groupby(['Year', 'Month'])['Sales'].sum().reset_index()\n",
    "\n",
    "# Create a new column that combines Year and Month into a single string\n",
    "monthly_sales['Year-Month'] = monthly_sales['Year'].astype(str) + '-' + monthly_sales['Month'].astype(str)\n",
    "\n",
    "# Create a line plot to show total monthly sales over time\n",
    "fig = px.line(\n",
    "    monthly_sales,         # Data source\n",
    "    x='Year-Month',        # X-axis: combined year and month\n",
    "    y='Sales',             # Y-axis: total sales\n",
    "    markers=True,          # Show data points on the line\n",
    "    title='Total Sales Over Time (Monthly)',  # Chart title\n",
    "    labels={'Year-Month': 'Year-Month', 'Sales': 'Total Sales'}  # Axis labels\n",
    ")\n",
    "\n",
    "# Display the plot\n",
    "fig.show()\n"
   ]
  },
  {
   "cell_type": "markdown",
   "id": "dc082d32-8c32-4ceb-947e-9e3af2629c61",
   "metadata": {},
   "source": [
    "### Monthly average sales"
   ]
  },
  {
   "cell_type": "code",
   "execution_count": null,
   "id": "e32f91ef-9a51-4175-b557-27efe5a1fd9d",
   "metadata": {},
   "outputs": [],
   "source": [
    "# Group sales by Year and Month, and calculate the average sales\n",
    "monthly_avg_sales = df.groupby(['Year', 'Month'])['Sales'].mean().reset_index()\n",
    "\n",
    "# Create a new column that combines Year and Month into a single string\n",
    "monthly_avg_sales['Year-Month'] = monthly_avg_sales['Year'].astype(str) + '-' + monthly_avg_sales['Month'].astype(str)\n",
    "\n",
    "# Create a line plot to show average monthly sales over time\n",
    "fig = px.line(\n",
    "    monthly_avg_sales,         # Data source\n",
    "    x='Year-Month',            # X-axis: combined year and month\n",
    "    y='Sales',                 # Y-axis: average sales\n",
    "    markers=True,              # Show data points on the line\n",
    "    title='Average Sales Over Time (Monthly)',  # Chart title\n",
    "    labels={'Year-Month': 'Year-Month', 'Sales': 'Average Sales'},  # Axis labels\n",
    "    color_discrete_sequence=['orange']  # Set line color to orange\n",
    ")\n",
    "\n",
    "# Display the plot\n",
    "fig.show()\n"
   ]
  },
  {
   "cell_type": "markdown",
   "id": "629baeb8-17a6-468b-8027-a9a15d651333",
   "metadata": {},
   "source": [
    "### Sales trend by Promo2 status"
   ]
  },
  {
   "cell_type": "code",
   "execution_count": null,
   "id": "4e9eef19-b53f-42ff-bd3d-a38262aec953",
   "metadata": {},
   "outputs": [],
   "source": [
    "# Group sales by Year, Month, and Promo2 status, then calculate total sales\n",
    "monthly_promo2 = df.groupby(['Year', 'Month', 'Promo2'])['Sales'].sum().reset_index()\n",
    "\n",
    "# Create a new column that combines Year and Month into one string\n",
    "monthly_promo2['Year-Month'] = monthly_promo2['Year'].astype(str) + '-' + monthly_promo2['Month'].astype(str)\n",
    "\n",
    "# Create a line plot to show sales trend based on Promo2 status\n",
    "fig = px.line(\n",
    "    monthly_promo2,         # Data source\n",
    "    x='Year-Month',         # X-axis: combined year and month\n",
    "    y='Sales',              # Y-axis: total sales\n",
    "    color='Promo2',         # Line color based on Promo2 status\n",
    "    markers=True,           # Show data points\n",
    "    title='Sales Trend by Promo2 Status',  # Chart title\n",
    "    labels={\n",
    "        'Year-Month': 'Year-Month',\n",
    "        'Sales': 'Sales',\n",
    "        'Promo2': 'Promo2 Status'\n",
    "    }  # Axis labels\n",
    ")\n",
    "\n",
    "# Display the plot\n",
    "fig.show()\n"
   ]
  },
  {
   "cell_type": "markdown",
   "id": "d249e5fd-14c0-4a04-ae62-91e7ce2a5b49",
   "metadata": {},
   "source": [
    "### Average sales by day of the week"
   ]
  },
  {
   "cell_type": "code",
   "execution_count": null,
   "id": "762c2750-0e5c-43d6-a679-aa369908c289",
   "metadata": {},
   "outputs": [],
   "source": [
    "# Group sales by day of the week and calculate the average sales\n",
    "avg_sales_day = df.groupby('DayOfWeek')['Sales'].mean().reset_index()\n",
    "\n",
    "# Set the size of the figure\n",
    "plt.figure(figsize=(8, 5))\n",
    "\n",
    "# Create a bar chart for average sales per day of the week\n",
    "plt.bar(avg_sales_day['DayOfWeek'], avg_sales_day['Sales'], color='skyblue')\n",
    "\n",
    "# Add chart title and axis labels\n",
    "plt.title('Average Sales by Day of Week')\n",
    "plt.xlabel('Day of Week (1=Monday)')\n",
    "plt.ylabel('Average Sales')\n",
    "\n",
    "# Show all day labels on the x-axis\n",
    "plt.xticks(avg_sales_day['DayOfWeek'])\n",
    "\n",
    "# Display the plot\n",
    "plt.show()\n"
   ]
  },
  {
   "cell_type": "markdown",
   "id": "7cc68957-a19c-459d-a1c4-48be0635b617",
   "metadata": {},
   "source": [
    "### Boxplot: Sales distribution by store type"
   ]
  },
  {
   "cell_type": "code",
   "execution_count": null,
   "id": "e095da25-2232-4bad-9d52-1d806d8a6150",
   "metadata": {},
   "outputs": [],
   "source": [
    "# Set the size of the figure\n",
    "plt.figure(figsize=(8, 6))\n",
    "\n",
    "# Create a boxplot to show the distribution of sales for each store type\n",
    "sns.boxplot(data=df, x='StoreType', y='Sales', palette='rocket')\n",
    "\n",
    "# Add chart title and axis labels\n",
    "plt.title('Sales Distribution by Store Type')\n",
    "plt.xlabel('Store Type')\n",
    "plt.ylabel('Sales')\n",
    "\n",
    "# Display the plot\n",
    "plt.show()\n"
   ]
  },
  {
   "cell_type": "markdown",
   "id": "d9e55ffb-279b-4c67-b1e2-168b853b2d12",
   "metadata": {},
   "source": [
    "### Boxplot: Sales distribution by Promo"
   ]
  },
  {
   "cell_type": "code",
   "execution_count": null,
   "id": "212d1902-5762-4c56-9b2b-e7e05cd352dd",
   "metadata": {},
   "outputs": [],
   "source": [
    "# Set the size of the figure\n",
    "plt.figure(figsize=(8, 6))\n",
    "\n",
    "# Create a boxplot to show how promotions affect sales\n",
    "sns.boxplot(data=df, x='Promo', y='Sales', palette='rocket')\n",
    "\n",
    "# Add chart title and axis labels\n",
    "plt.title('Effect of Promo on Sales')\n",
    "plt.xlabel('Promo (0=No, 1=Yes)')\n",
    "plt.ylabel('Sales')\n",
    "\n",
    "# Display the plot\n",
    "plt.show()\n"
   ]
  },
  {
   "cell_type": "markdown",
   "id": "a9e9147a-8a33-4d97-ae17-2054b443226b",
   "metadata": {},
   "source": [
    "### Average sales by state holiday"
   ]
  },
  {
   "cell_type": "code",
   "execution_count": null,
   "id": "2e29a24a-3601-4d74-83ff-f0f09b5df05e",
   "metadata": {},
   "outputs": [],
   "source": [
    "# Group sales by StateHoliday and calculate the average sales\n",
    "avg_sales_holiday = df.groupby('StateHoliday')['Sales'].mean().reset_index()\n",
    "\n",
    "# Map holiday codes to more descriptive labels\n",
    "holiday_labels = {\n",
    "    '0': 'No Holiday',\n",
    "    'a': 'Public Holiday',\n",
    "    'b': 'Easter Holiday',\n",
    "    'c': 'Christmas Holiday'\n",
    "}\n",
    "\n",
    "# Replace holiday codes with readable labels\n",
    "avg_sales_holiday['StateHoliday'] = avg_sales_holiday['StateHoliday'].map(holiday_labels)\n",
    "\n",
    "# Define the desired order of categories for the x-axis\n",
    "category_order = ['No Holiday', 'Public Holiday', 'Easter Holiday', 'Christmas Holiday']\n",
    "avg_sales_holiday['StateHoliday'] = pd.Categorical(avg_sales_holiday['StateHoliday'], categories=category_order, ordered=True)\n",
    "\n",
    "# Create a bar chart\n",
    "fig = px.bar(\n",
    "    avg_sales_holiday,              # Data source\n",
    "    x='StateHoliday',               # X-axis: holiday types\n",
    "    y='Sales',                      # Y-axis: average sales\n",
    "    color='StateHoliday',           # Color by holiday type\n",
    "    title='Average Sales during State Holidays',\n",
    "    labels={'StateHoliday': 'Holiday Type', 'Sales': 'Average Sales'},\n",
    "    color_discrete_sequence=px.colors.qualitative.Set2,\n",
    "    text='Sales'                    # Show values on bars\n",
    ")\n",
    "\n",
    "# Customize the text and layout\n",
    "fig.update_traces(\n",
    "    texttemplate='%{text:.2f}',    # Format text labels\n",
    "    textposition='outside'         # Position text above bars\n",
    ")\n",
    "\n",
    "fig.update_layout(\n",
    "    showlegend=False,\n",
    "    height=500,\n",
    "    width=800,\n",
    "    plot_bgcolor='rgba(0,0,0,0)',\n",
    "    paper_bgcolor='white',\n",
    "    font=dict(size=14),\n",
    "    title_x=0.5                    # Center the title\n",
    ")\n",
    "\n",
    "# Show the final plot\n",
    "fig.show()"
   ]
  },
  {
   "cell_type": "markdown",
   "id": "aa7a0149-4719-4093-abb2-c51f3dd0396a",
   "metadata": {},
   "source": [
    "### Scatter plot: Customers vs Sales"
   ]
  },
  {
   "cell_type": "code",
   "execution_count": null,
   "id": "7fda0505-38f9-44e4-a538-b29fc33acad2",
   "metadata": {},
   "outputs": [],
   "source": [
    "# Create a scatter plot using Plotly to visualize the relationship between 'Customers' and 'Sales'\n",
    "fig = px.scatter(\n",
    "    df, x='Customers', y='Sales',\n",
    "    title=\"Customers vs Sales\",\n",
    "    labels={'Customers': 'Number of Customers', 'Sales': 'Sales'},\n",
    "    template='plotly_dark'  # Use a dark theme for better contrast\n",
    ")\n",
    "\n",
    "# Customize the scatter plot: set marker color to gold and marker size to 7\n",
    "fig.update_traces(marker=dict(color='gold', size=7))\n",
    "\n",
    "# Display the scatter plot\n",
    "fig.show()\n"
   ]
  },
  {
   "cell_type": "markdown",
   "id": "4629eb73-f08b-461f-879b-c983879be912",
   "metadata": {},
   "source": [
    "### Monthly average sales for sample stores"
   ]
  },
  {
   "cell_type": "code",
   "execution_count": null,
   "id": "3b202270-20e3-43f5-97e7-1d40af842350",
   "metadata": {},
   "outputs": [],
   "source": [
    "# Group sales by Year, Month, and Store, then calculate average sales\n",
    "monthly_store_avg = df.groupby(['Year', 'Month', 'Store'])['Sales'].mean().reset_index()\n",
    "\n",
    "# Create a new column combining Year and Month as a string\n",
    "monthly_store_avg['Year-Month'] = monthly_store_avg['Year'].astype(str) + '-' + monthly_store_avg['Month'].astype(str)\n",
    "\n",
    "# Select a sample of 10 unique stores\n",
    "sample_stores = monthly_store_avg['Store'].unique()[:10]\n",
    "\n",
    "# Filter data to include only the sample stores\n",
    "filtered_data = monthly_store_avg[monthly_store_avg['Store'].isin(sample_stores)]\n",
    "\n",
    "# Create a line plot showing average monthly sales for the sample stores\n",
    "fig = px.line(\n",
    "    filtered_data,           # Data source\n",
    "    x='Year-Month',         # X-axis: combined year and month\n",
    "    y='Sales',              # Y-axis: average sales\n",
    "    color='Store',          # Different lines by store\n",
    "    markers=True,           # Show data points on lines\n",
    "    title='Average Monthly Sales for Sample Stores'  # Chart title\n",
    ")\n",
    "\n",
    "# Customize layout: axis titles, rotate x-axis labels, legend title, and figure size\n",
    "fig.update_layout(\n",
    "    xaxis_title='Year-Month',\n",
    "    yaxis_title='Average Sales',\n",
    "    xaxis_tickangle=45,\n",
    "    legend_title='Store',\n",
    "    height=600,\n",
    "    width=1000\n",
    ")\n",
    "\n",
    "# Display the plot\n",
    "fig.show()\n"
   ]
  },
  {
   "cell_type": "markdown",
   "id": "402c8158-84cc-402e-b303-aa2c4333c19e",
   "metadata": {},
   "source": [
    "### Boxplot: Effect of school holidays on sales"
   ]
  },
  {
   "cell_type": "code",
   "execution_count": null,
   "id": "b6b56d8c-8902-4ebb-bf38-a68e800d10fb",
   "metadata": {},
   "outputs": [],
   "source": [
    "# Set the size of the figure\n",
    "plt.figure(figsize=(8, 6))\n",
    "\n",
    "# Create a boxplot to show how school holidays affect sales\n",
    "sns.boxplot(data=df, x='SchoolHoliday', palette='rocket', y='Sales')\n",
    "\n",
    "# Add title and axis labels\n",
    "plt.title('Effect of School Holiday on Sales')\n",
    "plt.xlabel('School Holiday (0=No, 1=Yes)')\n",
    "plt.ylabel('Sales')\n",
    "\n",
    "# Display the plot\n",
    "plt.show()\n"
   ]
  },
  {
   "cell_type": "markdown",
   "id": "c335cb1c-fcb3-4e7e-9fd9-dfc69b2b2fcb",
   "metadata": {},
   "source": [
    "### Average sales by day of week and store type"
   ]
  },
  {
   "cell_type": "code",
   "execution_count": null,
   "id": "be41b396-a99a-40d8-b755-adf15e20168d",
   "metadata": {},
   "outputs": [],
   "source": [
    "# Group data by day of the week and store type, calculate average sales\n",
    "dayofweek_store_sales = df.groupby(['DayOfWeek', 'StoreType'])['Sales'].mean().reset_index()\n",
    "\n",
    "# Create a grouped bar chart to show average sales by day and store type\n",
    "fig = px.bar(\n",
    "    dayofweek_store_sales,    # Data source\n",
    "    x='DayOfWeek',            # X-axis: day of the week\n",
    "    y='Sales',                # Y-axis: average sales\n",
    "    color='StoreType',        # Bars colored by store type\n",
    "    barmode='group',          # Group bars side by side\n",
    "    title='Sales by Day of Week and Store Type'  # Chart title\n",
    ")\n",
    "\n",
    "# Set axis and legend titles\n",
    "fig.update_layout(\n",
    "    xaxis_title='Day of Week',\n",
    "    yaxis_title='Average Sales',\n",
    "    legend_title='Store Type'\n",
    ")\n",
    "\n",
    "# Show the plot\n",
    "fig.show()\n"
   ]
  },
  {
   "cell_type": "markdown",
   "id": "6baab1a9-170e-4f29-aa27-f55412cffc94",
   "metadata": {},
   "source": [
    "### Sales trend by day of week over time"
   ]
  },
  {
   "cell_type": "code",
   "execution_count": null,
   "id": "1593c447-f7f1-4e60-90a0-4d6653205d2a",
   "metadata": {},
   "outputs": [],
   "source": [
    "# Group data by year, month, and day of the week; calculate average sales\n",
    "dayofweek_sales = df.groupby(['Year', 'Month', 'DayOfWeek'])['Sales'].mean().reset_index()\n",
    "\n",
    "# Create a new column combining year and month as a string\n",
    "dayofweek_sales['Year-Month'] = dayofweek_sales['Year'].astype(str) + '-' + dayofweek_sales['Month'].astype(str)\n",
    "\n",
    "# Create a line chart showing sales trends over time by day of the week\n",
    "fig = px.line(\n",
    "    dayofweek_sales,          # Data source\n",
    "    x='Year-Month',           # X-axis: combined year and month\n",
    "    y='Sales',                # Y-axis: average sales\n",
    "    color='DayOfWeek',        # Lines colored by day of the week\n",
    "    markers=True,             # Show markers on data points\n",
    "    title='Sales Trend by Day of Week Over Time'  # Chart title\n",
    ")\n",
    "\n",
    "# Update layout with axis titles and rotate x-axis labels for readability\n",
    "fig.update_layout(\n",
    "    xaxis_title='Year-Month',\n",
    "    yaxis_title='Average Sales',\n",
    "    xaxis_tickangle=45\n",
    ")\n",
    "\n",
    "# Display the plot\n",
    "fig.show()\n"
   ]
  },
  {
   "cell_type": "markdown",
   "id": "3a76781c-f71f-4587-92e3-ce7bfc302b05",
   "metadata": {},
   "source": [
    "### Daily total sales"
   ]
  },
  {
   "cell_type": "code",
   "execution_count": null,
   "id": "0bcacb0b-5e1c-4949-971c-7c022b3ae69e",
   "metadata": {},
   "outputs": [],
   "source": [
    "# Group data by date and sum sales for each day\n",
    "daily_sales = df.groupby('Date')['Sales'].sum().reset_index()\n",
    "\n",
    "# Create a line chart showing total daily sales over time\n",
    "fig = px.line(\n",
    "    daily_sales,       # Data source\n",
    "    x='Date',          # X-axis: dates\n",
    "    y='Sales',         # Y-axis: total sales\n",
    "    title='Total Sales Time Series (Daily)'  # Chart title\n",
    ")\n",
    "\n",
    "# Display the plot\n",
    "fig.show()\n"
   ]
  },
  {
   "cell_type": "markdown",
   "id": "da34c219-3dcf-4192-ba5a-ff71ff6bf080",
   "metadata": {},
   "source": [
    "### Correlation heatmap"
   ]
  },
  {
   "cell_type": "code",
   "execution_count": null,
   "id": "80119c2d-f07e-40c9-a268-4bdb8714ffdf",
   "metadata": {},
   "outputs": [],
   "source": [
    "# Calculate correlation matrix for numerical columns only\n",
    "corr = df.select_dtypes(include=['float64', 'int64', 'int32']).corr()\n",
    "\n",
    "# Create a mask for the upper triangle (to hide duplicate correlations)\n",
    "mask = np.triu(np.ones_like(corr, dtype=bool))\n",
    "\n",
    "# Set figure size\n",
    "plt.figure(figsize=(14, 10))\n",
    "\n",
    "# Plot heatmap of correlations with annotations and a reversed rocket color map\n",
    "sns.heatmap(\n",
    "    corr,              # Correlation matrix data\n",
    "    mask=mask,         # Apply mask to show only lower triangle\n",
    "    annot=True,        # Show correlation values on the heatmap\n",
    "    fmt=\".2f\",         # Format numbers to 2 decimal places\n",
    "    cmap='rocket_r',   # Color map (rocket reversed)\n",
    "    square=True        # Make cells square-shaped\n",
    ")\n",
    "\n",
    "# Add title to the heatmap\n",
    "plt.title('Heatmap of Correlations Between Numerical Features')\n",
    "\n",
    "# Show the plot\n",
    "plt.show()\n"
   ]
  },
  {
   "cell_type": "markdown",
   "id": "70ce1bec-5c6b-4e40-a133-7dccba579cb1",
   "metadata": {},
   "source": [
    "## Financial Suggestions Based on Data Analysis\n",
    "\n",
    "- Focus on identifying and addressing missing data patterns to improve data quality and reliability for better decision-making.\n",
    "- Analyze customer behavior trends during holidays and promotional periods to optimize store operations and marketing campaigns.\n",
    "- Investigate the impact of store competition distance (`compdistance`) on sales to develop localized marketing strategies.\n",
    "- Examine the performance differences between various store types (`StoreType`) and product assortments (`Assortment`) to tailor inventory and promotions accordingly.\n",
    "- Utilize insights from sales and customer counts over different days of the week and months to plan staffing and inventory levels effectively.\n",
    "- Monitor open and closed store days to understand their effect on sales fluctuations and adapt business hours if necessary.\n",
    "- Review the effectiveness of promotional intervals (`PromoInterval`) and long-term promotions (`Promo2`) in driving customer engagement and sales.\n",
    "- Explore the effect of school holidays and state holidays on customer footfall and sales volume to improve seasonal planning.\n",
    "- Leverage visualization insights to communicate key trends and anomalies to stakeholders for informed business decisions."
   ]
  },
  {
   "cell_type": "code",
   "execution_count": null,
   "id": "10b140ec-a5e2-4924-8668-7bd19658c3c4",
   "metadata": {},
   "outputs": [],
   "source": []
  }
 ],
 "metadata": {
  "kernelspec": {
   "display_name": "Python 3 (ipykernel)",
   "language": "python",
   "name": "python3"
  },
  "language_info": {
   "codemirror_mode": {
    "name": "ipython",
    "version": 3
   },
   "file_extension": ".py",
   "mimetype": "text/x-python",
   "name": "python",
   "nbconvert_exporter": "python",
   "pygments_lexer": "ipython3",
   "version": "3.12.4"
  }
 },
 "nbformat": 4,
 "nbformat_minor": 5
}
